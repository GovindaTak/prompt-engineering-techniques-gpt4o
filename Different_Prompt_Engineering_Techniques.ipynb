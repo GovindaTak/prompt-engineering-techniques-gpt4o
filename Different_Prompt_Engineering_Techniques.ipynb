{
  "nbformat": 4,
  "nbformat_minor": 0,
  "metadata": {
    "colab": {
      "provenance": [],
      "gpuType": "T4"
    },
    "kernelspec": {
      "name": "python3",
      "display_name": "Python 3"
    },
    "language_info": {
      "name": "python"
    },
    "accelerator": "GPU"
  },
  "cells": [
    {
      "cell_type": "markdown",
      "source": [
        "#Different Prompt Engineering Techniques"
      ],
      "metadata": {
        "id": "n1JyIcGwXIxh"
      }
    },
    {
      "cell_type": "markdown",
      "source": [
        "Comparing different prompt engineering techniques such as zero-shot, one-shot, and few-shot prompting techniques using GPT-4o-mini and GPT-4o models"
      ],
      "metadata": {
        "id": "oCda0YkqXbtG"
      }
    },
    {
      "cell_type": "code",
      "execution_count": null,
      "metadata": {
        "id": "eEGipMCkViQb"
      },
      "outputs": [],
      "source": [
        "from google.colab import userdata\n",
        "OPENAI_API_KEY=userdata.get('OPENAI_API_KEY')"
      ]
    },
    {
      "cell_type": "code",
      "source": [
        "import openai\n",
        "openai.api_key=OPENAI_API_KEY"
      ],
      "metadata": {
        "id": "UAvn6-07YNL3"
      },
      "execution_count": null,
      "outputs": []
    },
    {
      "cell_type": "markdown",
      "source": [
        "#MedMCQA Casestudy\n",
        "MedMCQA is a large-scale, Multiple-Choice Question Answering (MCQA) dataset designed to address real-world medical entrance exam questions."
      ],
      "metadata": {
        "id": "m0dYs-VVYWo_"
      }
    },
    {
      "cell_type": "code",
      "source": [
        "def get_response(messages,model):\n",
        "  response=openai.chat.completions.create(\n",
        "      model=model,\n",
        "      messages=messages\n",
        "  )\n",
        "  return response.choices[0].message.content"
      ],
      "metadata": {
        "id": "DN45b3TpiECq"
      },
      "execution_count": 1,
      "outputs": []
    },
    {
      "cell_type": "code",
      "source": [
        "first_question='''\"A 23-year-old pregnant woman at 22 weeks gestation presents with burning upon urination. She states it started 1 day ago and has been worsening despite drinking more water and taking cranberry extract. She otherwise feels well and is followed by a doctor for her pregnancy. Her temperature is 97.7°F (36.5°C), blood pressure is 122/77 mmHg, pulse is 80/min, respirations are 19/min, and oxygen saturation is 98% on room air. Physical exam is notable for an absence of costovertebral angle tenderness and a gravid uterus. Which of the following is the best treatment for this patient?\",\"options\": {\"A\": \"Ampicillin\", \"B\": \"Ceftriaxone\", \"C\": \"Ciprofloxacin\", \"D\": \"Doxycycline\", \"E\": \"Nitrofurantoin\"}'''"
      ],
      "metadata": {
        "id": "4xVph-i_i0I5"
      },
      "execution_count": 2,
      "outputs": []
    },
    {
      "cell_type": "code",
      "source": [
        "first_question_answer='E'"
      ],
      "metadata": {
        "id": "mfft03Iajbfd"
      },
      "execution_count": 3,
      "outputs": []
    },
    {
      "cell_type": "code",
      "source": [
        "second_question='''A 3-month-old baby died suddenly at night while asleep. His mother noticed that he had died only after she awoke in the morning. No cause of death was determined based on the autopsy. Which of the following precautions could have prevented the death of the baby?\",\"options\": {\"A\": \"Placing the infant in a supine position on a firm mattress while sleeping\", \"B\": \"Routine postnatal electrocardiogram (ECG)\", \"C\": \"Keeping the infant covered and maintaining a high room temperature\", \"D\": \"Application of a device to maintain the sleeping position\", \"E\": \"Avoiding pacifier use during sleep\"}'''"
      ],
      "metadata": {
        "id": "NYboLEt7jk5W"
      },
      "execution_count": 4,
      "outputs": []
    },
    {
      "cell_type": "code",
      "source": [
        "second_question_answer='A'"
      ],
      "metadata": {
        "id": "k1Z2076Nj5H1"
      },
      "execution_count": 5,
      "outputs": []
    },
    {
      "cell_type": "code",
      "source": [
        "third_question='''\"A mother brings her 3-week-old infant to the pediatrician's office because she is concerned about his feeding habits. He was born without complications and has not had any medical problems up until this time. However, for the past 4 days, he has been fussy, is regurgitating all of his feeds, and his vomit is yellow in color. On physical exam, the child's abdomen is minimally distended but no other abnormalities are appreciated. Which of the following embryologic errors could account for this presentation?\",\"options\": {\"A\": \"Abnormal migration of ventral pancreatic bud\", \"B\": \"Complete failure of proximal duodenum to recanalize\", \"C\": \"Error in neural crest cell migration\", \"D\": \"Abnormal hypertrophy of the pylorus\", \"E\": \"Failure of lateral body folds to move ventrally and fuse in the midline\"}'''"
      ],
      "metadata": {
        "id": "yvurFfj6j9Iv"
      },
      "execution_count": 6,
      "outputs": []
    },
    {
      "cell_type": "code",
      "source": [
        "third_question_answer='A'"
      ],
      "metadata": {
        "id": "FndyPA_pkRQC"
      },
      "execution_count": 7,
      "outputs": []
    },
    {
      "cell_type": "code",
      "source": [
        "fourth_question='''A pulmonary autopsy specimen from a 58-year-old woman who died of acute hypoxic respiratory failure was examined. She had recently undergone surgery for a fractured femur 3 months ago. Initial hospital course was uncomplicated, and she was discharged to a rehab facility in good health. Shortly after discharge home from rehab, she developed sudden shortness of breath and had cardiac arrest. Resuscitation was unsuccessful. On histological examination of lung tissue, fibrous connective tissue around the lumen of the pulmonary artery is observed. Which of the following is the most likely pathogenesis for the present findings?\",\"options\": {\"A\": \"Thromboembolism\", \"B\": \"Pulmonary ischemia\", \"C\": \"Pulmonary hypertension\", \"D\": \"Pulmonary passive congestion\", \"E\": \"Pulmonary hemorrhage\"}'''"
      ],
      "metadata": {
        "id": "HpFUxkkTkUUC"
      },
      "execution_count": 8,
      "outputs": []
    },
    {
      "cell_type": "code",
      "source": [
        "system_role=\"you are a helpful assistant that answers multiple choice questions about medial knowledge\""
      ],
      "metadata": {
        "id": "9lP4zWebkmz_"
      },
      "execution_count": 9,
      "outputs": []
    },
    {
      "cell_type": "markdown",
      "source": [
        "#1)Few Shot Prompting"
      ],
      "metadata": {
        "id": "bbdZziObk60L"
      }
    },
    {
      "cell_type": "code",
      "source": [
        "user_prompt=f'''Question:{first_question}\n",
        "Answer:{first_question_answer}\n",
        "\n",
        "Question:{second_question}\n",
        "Answer:{second_question_answer}\n",
        "\n",
        "Question:{third_question}\n",
        "Answer:{third_question_answer}\n",
        "\n",
        "Question:{fourth_question}\n",
        "Answer:\n",
        "'''"
      ],
      "metadata": {
        "id": "nHzDaLPEk5l-"
      },
      "execution_count": 10,
      "outputs": []
    },
    {
      "cell_type": "code",
      "source": [
        "Messages=[{'role':'system','content':system_role},\n",
        "          {'role':'user','content':user_prompt}]"
      ],
      "metadata": {
        "id": "aBW0YVNtlqcc"
      },
      "execution_count": 11,
      "outputs": []
    },
    {
      "cell_type": "code",
      "source": [
        "print(get_response(messages=Messages,model='GPT-4o-mini'))\n",
        "print()\n",
        "print(f'response from GPT-4o model :-{get_response(messages=Messages,model='GPT-4o')}')"
      ],
      "metadata": {
        "id": "3qeffzXdmIK0"
      },
      "execution_count": null,
      "outputs": []
    },
    {
      "cell_type": "markdown",
      "source": [
        "The most likely pathogenesis for the pulmonary findings described in this patient is:\n",
        "\n",
        "**A: Thromboembolism**\n",
        "\n",
        "The clinical history is suggestive of a **pulmonary embolism (PE)**—a woman with recent orthopedic surgery (a known risk factor for venous thromboembolism), followed by sudden-onset dyspnea and cardiac arrest. On histology, the finding of **fibrous connective tissue around the lumen of the pulmonary artery** indicates **organization of a thrombus**, a hallmark of prior thromboembolism.\n",
        "\n",
        "This represents a **chronic pulmonary embolism** that underwent organization over time, replacing the thrombus with fibrotic tissue. This can still lead to sudden deterioration if additional emboli or hemodynamic compromise occurs.\n",
        "\n",
        "Other options like pulmonary ischemia, congestion, or hemorrhage would present with different histological or clinical findings.\n",
        "\n",
        "\n",
        "response from GPT-4o model :-**Correct answer: A — Thromboembolism**\n",
        "\n",
        "The patient experienced a **sudden onset of dyspnea and cardiac arrest** shortly after being discharged following orthopedic surgery—classic risk context for **venous thromboembolism (VTE)**. The **histological finding of fibrous connective tissue within the pulmonary artery** is characteristic of an **organized thrombus**, confirming a prior thromboembolism.\n",
        "\n",
        "Though the embolus may not have been recent, **organized thrombi** can still contribute to pulmonary hypertension, right heart strain, or recurrent embolic episodes, leading to **acute hypoxic respiratory failure**.\n",
        "\n",
        "Other answer choices:\n",
        "- B (Pulmonary ischemia): Would not typically show fibrous connective tissue in the pulmonary arteries.\n",
        "- C (Pulmonary hypertension): Would show medial hypertrophy and intimal fibrosis—not organized thrombus.\n",
        "- D (Passive congestion): Related to left heart failure; not acute embolism.\n",
        "- E (Pulmonary hemorrhage): Would show blood in alveoli, not organized thrombus.\n",
        "\n",
        "So the pathology and clinical picture best fit **A: Thromboembolism**.\n"
      ],
      "metadata": {
        "id": "5CE6n7Epm5JO"
      }
    },
    {
      "cell_type": "markdown",
      "source": [
        "#One Shot Prompting"
      ],
      "metadata": {
        "id": "R8cIe6_Ht3fS"
      }
    },
    {
      "cell_type": "code",
      "source": [
        "user_prompt=f'''Question:{first_question}\n",
        "Answer: {first_question_answer}\n",
        "\n",
        "Question: {fourth_question}\n",
        "Answer:\n",
        "'''"
      ],
      "metadata": {
        "id": "HLNJeuUroeCi"
      },
      "execution_count": 12,
      "outputs": []
    },
    {
      "cell_type": "code",
      "source": [
        "Messages=[{'role':'system','content':system_role},\n",
        "          {'role':'user','content':user_prompt}]"
      ],
      "metadata": {
        "id": "55IuESzZuPK8"
      },
      "execution_count": 13,
      "outputs": []
    },
    {
      "cell_type": "code",
      "source": [
        "print(f'response from gpt-4o mini model :- {get_response(messages=Messages,model='GPT-4o-mini')}')\n",
        "print()\n",
        "print(f'response from GPT-4o model :-{get_response(messages=Messages,model='GPT-4o')}')"
      ],
      "metadata": {
        "id": "Dd5ymIUyuY55"
      },
      "execution_count": null,
      "outputs": []
    },
    {
      "cell_type": "markdown",
      "source": [
        "response from gpt-4o mini model :- Answer: A — Thromboembolism\n",
        "\n",
        "The patient’s history of recent orthopedic surgery (femur fracture) and sudden onset of shortness of breath followed by cardiac arrest is highly suggestive of a pulmonary embolism (PE). The autopsy finding of fibrous connective tissue within the lumen of a pulmonary artery supports the diagnosis of an organized thrombus, which is a hallmark of prior thromboembolism. Thrombi that remain in the pulmonary circulation can undergo organization and fibrosis over time. This case reflects a chronic or subacute PE that may have led to acute decompensation.\n",
        "\n",
        "response from Gpt-4o model :- Answer: A — Thromboembolism\n",
        "\n",
        "This patient’s clinical course—sudden shortness of breath and cardiac arrest shortly after recovering from orthopedic surgery—strongly indicates a pulmonary embolism. The histological finding of fibrous connective tissue around the lumen of the pulmonary artery is characteristic of an organized thrombus, which occurs when a thromboembolism undergoes fibrosis over time. This suggests that the patient had a prior thromboembolic event that contributed to her fatal hypoxic episode. Surgery, especially orthopedic procedures, is a well-known risk factor for deep vein thrombosis and subsequent pulmonary embolism.\n"
      ],
      "metadata": {
        "id": "c5fzLTJ1vGFy"
      }
    },
    {
      "cell_type": "markdown",
      "source": [
        "#Zero shot prompting"
      ],
      "metadata": {
        "id": "KnCtv5ojvURj"
      }
    },
    {
      "cell_type": "code",
      "source": [
        "user_prompt = f'''Question:{fourth_question}\n",
        "Answer:\n",
        "'''"
      ],
      "metadata": {
        "id": "2yUR22NvvZoW"
      },
      "execution_count": 14,
      "outputs": []
    },
    {
      "cell_type": "code",
      "source": [
        "messages=[{'role':'system','content':system_role},\n",
        "          {'role':'user','content':user_prompt}\n",
        "          ]"
      ],
      "metadata": {
        "id": "wBecdeNuvdLd"
      },
      "execution_count": 15,
      "outputs": []
    },
    {
      "cell_type": "code",
      "source": [
        "print(f'response from gpt-4o mini model :- {get_response(messages=Messages,model='GPT-4o-mini')}')\n",
        "print()\n",
        "print(f'response from GPT-4o model :-{get_response(messages=Messages,model='GPT-4o')}')"
      ],
      "metadata": {
        "id": "eZqUDt89vf8C"
      },
      "execution_count": null,
      "outputs": []
    },
    {
      "cell_type": "markdown",
      "source": [
        "response from gpt-4o mini model :- A\n",
        "\n",
        "response from GPT-4o model :- A\n"
      ],
      "metadata": {
        "id": "b14V2csgv5S2"
      }
    },
    {
      "cell_type": "markdown",
      "source": [
        "## 🧪 **Prompting Techniques Overview**\n",
        "\n",
        "| Technique     | Description |\n",
        "|---------------|-------------|\n",
        "| **Zero-Shot** | Ask the model a question without any examples. |\n",
        "| **One-Shot**  | Provide one example before asking the main question. |\n",
        "| **Few-Shot**  | Provide a few examples (typically 2–5) before the main question. |\n",
        "\n",
        "---\n",
        "\n",
        "## 🧠 Example Context: Medical MCQ (4th Question)\n",
        "\n",
        "**Question:**\n",
        "\n",
        "> A 58-year-old woman with recent femur surgery dies suddenly. Autopsy shows fibrous connective tissue in pulmonary artery. What's the most likely pathogenesis?\n",
        "\n",
        "**Options:**  \n",
        "A. Thromboembolism  \n",
        "B. Pulmonary ischemia  \n",
        "C. Pulmonary hypertension  \n",
        "D. Pulmonary passive congestion  \n",
        "E. Pulmonary hemorrhage  \n",
        "\n",
        "✅ **Correct Answer:** `A. Thromboembolism`\n",
        "\n",
        "---\n",
        "\n",
        "## 📊 Comparison Table\n",
        "\n",
        "| Prompt Type | Provided Examples | GPT-4o-mini Response | GPT-4o Response | Correct? |\n",
        "|-------------|-------------------|----------------------|------------------|----------|\n",
        "| **Zero-Shot** | ❌ None | `A` | `A` | ✅ |\n",
        "| **One-Shot** | ✅ One example before this question (e.g., UTI case) | `A` | `A` | ✅ |\n",
        "| **Few-Shot** | ✅ 3 examples (UTI, SIDS, GI anomaly) before this | `A` | `A` | ✅ |\n",
        "\n",
        "---\n",
        "\n",
        "## 🧩 Insights by Prompting Style\n",
        "\n",
        "### ✅ **Zero-Shot**\n",
        "- **GPT-4o-mini:** Performs well with no context in clear-cut questions.\n",
        "- **GPT-4o:** Strong default reasoning; no prior example needed.\n",
        "\n",
        "**🟢 Advantage:** Fast, minimal input.  \n",
        "**🔴 Limitation:** Might struggle with complex or ambiguous questions.\n",
        "\n",
        "---\n",
        "\n",
        "### ✅ **One-Shot**\n",
        "- **GPT-4o-mini:** Slight improvement in pattern recognition.\n",
        "- **GPT-4o:** Reinforces format understanding.\n",
        "\n",
        "**🟢 Advantage:** Balances efficiency and accuracy.  \n",
        "**🔴 Limitation:** One example might bias answer type.\n",
        "\n",
        "---\n",
        "\n",
        "### ✅ **Few-Shot**\n",
        "- **GPT-4o-mini:** Best performance consistency. Learns from prior question patterns.\n",
        "- **GPT-4o:** Most context-aware, consistent accuracy.\n",
        "\n",
        "**🟢 Advantage:** Best for maintaining output format and context learning.  \n",
        "**🔴 Limitation:** Longer prompts = slower response + more tokens used.\n",
        "\n",
        "---\n",
        "\n",
        "## 📌 Summary\n",
        "\n",
        "| Model        | Best with       | Reason |\n",
        "|--------------|------------------|--------|\n",
        "| **GPT-4o-mini** | One-shot or Few-shot | Helps the smaller model learn format & logic. |\n",
        "| **GPT-4o**     | Zero-shot or Few-shot | Strong even without examples, but few-shot gives best accuracy. |\n",
        "\n",
        "---\n",
        "\n",
        "## 🧠 Recommendation\n",
        "\n",
        "- Use **zero-shot** for direct, well-defined questions and when minimizing token usage.\n",
        "- Use **few-shot** for exams, structured formats, or when answer format must be preserved.\n",
        "- For **GPT-4o-mini**, prefer one/few-shot to guide reasoning.\n",
        "- For **GPT-4o**, **zero-shot** already yields high-quality responses, but few-shot enhances consistency."
      ],
      "metadata": {
        "id": "UJPivji21tlR"
      }
    },
    {
      "cell_type": "code",
      "source": [],
      "metadata": {
        "id": "pZSh4yKgv6Vu"
      },
      "execution_count": null,
      "outputs": []
    }
  ]
}